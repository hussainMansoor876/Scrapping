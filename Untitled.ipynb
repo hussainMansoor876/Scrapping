{
 "cells": [
  {
   "cell_type": "code",
   "execution_count": 5,
   "metadata": {},
   "outputs": [],
   "source": [
    "url = 'https://de.kompass.com/d/westerwaldkreis/de_07_07143/'\n",
    "url2 = 'https://de.kompass.com/d/westerwaldkreis/de_07_07143/page-2/'\n",
    "page = 'page-'"
   ]
  },
  {
   "cell_type": "code",
   "execution_count": 6,
   "metadata": {},
   "outputs": [],
   "source": [
    "from requests import get\n",
    "from bs4 import BeautifulSoup"
   ]
  },
  {
   "cell_type": "code",
   "execution_count": 7,
   "metadata": {},
   "outputs": [
    {
     "ename": "IndexError",
     "evalue": "list index out of range",
     "output_type": "error",
     "traceback": [
      "\u001b[1;31m---------------------------------------------------------------------------\u001b[0m",
      "\u001b[1;31mIndexError\u001b[0m                                Traceback (most recent call last)",
      "\u001b[1;32m<ipython-input-7-770dfcc5506c>\u001b[0m in \u001b[0;36m<module>\u001b[1;34m\u001b[0m\n\u001b[0;32m     15\u001b[0m     \u001b[0mhtml_soup\u001b[0m \u001b[1;33m=\u001b[0m \u001b[0mBeautifulSoup\u001b[0m\u001b[1;33m(\u001b[0m\u001b[0mresponse\u001b[0m\u001b[1;33m.\u001b[0m\u001b[0mtext\u001b[0m\u001b[1;33m,\u001b[0m \u001b[1;34m'html.parser'\u001b[0m\u001b[1;33m)\u001b[0m\u001b[1;33m\u001b[0m\u001b[1;33m\u001b[0m\u001b[0m\n\u001b[0;32m     16\u001b[0m     \u001b[0mmain1\u001b[0m \u001b[1;33m=\u001b[0m \u001b[0mhtml_soup\u001b[0m\u001b[1;33m.\u001b[0m\u001b[0mfind_all\u001b[0m\u001b[1;33m(\u001b[0m\u001b[1;34m'main'\u001b[0m\u001b[1;33m)\u001b[0m\u001b[1;33m[\u001b[0m\u001b[1;36m0\u001b[0m\u001b[1;33m]\u001b[0m\u001b[1;33m\u001b[0m\u001b[1;33m\u001b[0m\u001b[0m\n\u001b[1;32m---> 17\u001b[1;33m     \u001b[0msection\u001b[0m \u001b[1;33m=\u001b[0m \u001b[0mmain1\u001b[0m\u001b[1;33m.\u001b[0m\u001b[0mfind_all\u001b[0m\u001b[1;33m(\u001b[0m\u001b[1;34m'section'\u001b[0m\u001b[1;33m,\u001b[0m \u001b[0mclass_\u001b[0m\u001b[1;33m=\u001b[0m\u001b[1;34m\"col-xs-12 col-sm-12 col-md-6 resultats classificationListCategoryMiddle\"\u001b[0m\u001b[1;33m)\u001b[0m\u001b[1;33m[\u001b[0m\u001b[1;36m0\u001b[0m\u001b[1;33m]\u001b[0m\u001b[1;33m\u001b[0m\u001b[1;33m\u001b[0m\u001b[0m\n\u001b[0m\u001b[0;32m     18\u001b[0m     \u001b[0maTag\u001b[0m \u001b[1;33m=\u001b[0m \u001b[0msection\u001b[0m\u001b[1;33m.\u001b[0m\u001b[0mfind_all\u001b[0m\u001b[1;33m(\u001b[0m\u001b[1;34m'h2'\u001b[0m\u001b[1;33m)\u001b[0m\u001b[1;33m\u001b[0m\u001b[1;33m\u001b[0m\u001b[0m\n\u001b[0;32m     19\u001b[0m     \u001b[0maData\u001b[0m \u001b[1;33m=\u001b[0m \u001b[1;33m[\u001b[0m\u001b[1;33m]\u001b[0m\u001b[1;33m\u001b[0m\u001b[1;33m\u001b[0m\u001b[0m\n",
      "\u001b[1;31mIndexError\u001b[0m: list index out of range"
     ]
    }
   ],
   "source": [
    "allData = []\n",
    "for i in range(1,18):\n",
    "    response = get(url+page+str(i), headers={\n",
    "        \"accept\": \"text/html,application/xhtml+xml,application/xml;q=0.9,image/webp,image/apng,*/*;q=0.8,application/signed-exchange;v=b3\",\n",
    "        \"accept-encoding\": \"gzip, deflate, br\",\n",
    "        \"accept-language\": \"en-US,en;q=0.9,eu;q=0.8,ur;q=0.7\",\n",
    "        \"cache-control\": \"max-age=0\",\n",
    "        \"cookie\": \"timezoneoffset=-300; __sc_uid_=134e0c3c08b496c4c5dddac0f597f190; _k_cty_lang=de_DE; ROUTEID=.3; cookie_kompass_allowedCookies=Wysistat%2Cws_cookie_dns%2Cwschkvisit24,c1%2Cs1%2Cns_cookietest%2Cns_session,__atuvc%2Cuid,_jsuid%2C_eventqueue,__utma%2C__utmb%2C__utmc%2C__utmz%2C__utmv,undefined; SnapABugHistory=1#; _ga=GA1.2.2015073784.1570192599; _gid=GA1.2.66095710.1570192599; JSESSIONID=126B8EE30A4605B2735D0FCEEA66019C; SnapABugRef=https%3A%2F%2Fde.kompass.com%2Fd%2Fwesterwaldkreis%2Fde_07_07143%2F%20; SnapABugUserAlias=%23; SnapABugVisit=11#1570192417; kp_uuid=62e0352f-8a5b-4e6e-92a0-f63bf723de65\",\n",
    "        \"sec-fetch-mode\": \"navigate\",\n",
    "        \"sec-fetch-site\": \"none\",\n",
    "        \"sec-fetch-user\": \"?1\",\n",
    "        \"upgrade-insecure-requests\": \"1\",\n",
    "        \"user-agent\": \"Mozilla/5.0 (Windows NT 10.0; Win64; x64) AppleWebKit/537.36 (KHTML, like Gecko) Chrome/77.0.3865.90 Safari/537.36\"\n",
    "    })\n",
    "    html_soup = BeautifulSoup(response.text, 'html.parser')\n",
    "    main1 = html_soup.find_all('main')[0]\n",
    "    section = main1.find_all('section', class_=\"col-xs-12 col-sm-12 col-md-6 resultats classificationListCategoryMiddle\")[0]\n",
    "    aTag = section.find_all('h2')\n",
    "    aData = []\n",
    "    for a in aTag[1:]:\n",
    "        a1 = a.find_all('a')[0]\n",
    "        aData.append(a1)\n",
    "    allData.append(aData)\n",
    "    print(response,i)"
   ]
  },
  {
   "cell_type": "code",
   "execution_count": 4,
   "metadata": {},
   "outputs": [
    {
     "data": {
      "text/plain": [
       "0"
      ]
     },
     "execution_count": 4,
     "metadata": {},
     "output_type": "execute_result"
    }
   ],
   "source": [
    "data = []\n",
    "\n",
    "for arr in allData:\n",
    "    for arr1 in arr:\n",
    "        data.append(arr1['href'])\n",
    "len(data)"
   ]
  },
  {
   "cell_type": "code",
   "execution_count": 35,
   "metadata": {},
   "outputs": [
    {
     "name": "stdout",
     "output_type": "stream",
     "text": [
      "https://de.kompass.com/c/bc-top-sport-e-v-montabaur/de320958/\n",
      "1341\n"
     ]
    }
   ],
   "source": [
    "for i,a in enumerate(data):\n",
    "    if 'https://de.kompass.com/c/bc-top-sport-e-v-montabaur/de320958/' in a:\n",
    "        print(a)\n",
    "        print(i)"
   ]
  },
  {
   "cell_type": "code",
   "execution_count": null,
   "metadata": {},
   "outputs": [],
   "source": []
  }
 ],
 "metadata": {
  "kernelspec": {
   "display_name": "Python 3",
   "language": "python",
   "name": "python3"
  },
  "language_info": {
   "codemirror_mode": {
    "name": "ipython",
    "version": 3
   },
   "file_extension": ".py",
   "mimetype": "text/x-python",
   "name": "python",
   "nbconvert_exporter": "python",
   "pygments_lexer": "ipython3",
   "version": "3.7.3"
  }
 },
 "nbformat": 4,
 "nbformat_minor": 2
}
